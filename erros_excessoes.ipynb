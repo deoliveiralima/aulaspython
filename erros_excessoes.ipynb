{
 "cells": [
  {
   "cell_type": "code",
   "execution_count": 2,
   "metadata": {},
   "outputs": [
    {
     "name": "stdout",
     "output_type": "stream",
     "text": [
      "Erro ao tratar o arquivo\n"
     ]
    }
   ],
   "source": [
    "try:\n",
    "    file = open(\"testFile\",'r')\n",
    "    file.write(\"Teste de escrita\")\n",
    "except:\n",
    "    print(\"Erro ao tratar o arquivo\")\n",
    "else:\n",
    "    print(\"Arquivo escrito\")"
   ]
  },
  {
   "cell_type": "code",
   "execution_count": null,
   "metadata": {},
   "outputs": [],
   "source": [
    "try:\n",
    "    file = open(\"testeFile\",'w')\n",
    "    file.write(\"Teste de escrita\")\n",
    "except:\n",
    "    print(\"Erro ao tratar o arquivo\")\n",
    "finally:\n",
    "    print(\"Fu\")"
   ]
  }
 ],
 "metadata": {
  "kernelspec": {
   "display_name": "Python 3",
   "language": "python",
   "name": "python3"
  },
  "language_info": {
   "codemirror_mode": {
    "name": "ipython",
    "version": 3
   },
   "file_extension": ".py",
   "mimetype": "text/x-python",
   "name": "python",
   "nbconvert_exporter": "python",
   "pygments_lexer": "ipython3",
   "version": "3.7.3"
  }
 },
 "nbformat": 4,
 "nbformat_minor": 2
}
