{
 "cells": [
  {
   "cell_type": "code",
   "execution_count": 2,
   "metadata": {},
   "outputs": [
    {
     "name": "stdout",
     "output_type": "stream",
     "text": [
      "Erro ao tratar o arquivo\n"
     ]
    }
   ],
   "source": [
    "try:\n",
    "    file = open(\"testFile\",'r')\n",
    "    file.write(\"Teste de escrita\")\n",
    "except:\n",
    "    print(\"Erro ao tratar o arquivo\")\n",
    "else:\n",
    "    print(\"Arquivo escrito\")"
   ]
  },
  {
   "cell_type": "code",
   "execution_count": 3,
   "metadata": {},
   "outputs": [
    {
     "name": "stdout",
     "output_type": "stream",
     "text": [
      "Funcionou\n"
     ]
    }
   ],
   "source": [
    "try:\n",
    "    file = open(\"testeFile\",'w')\n",
    "    file.write(\"Teste de escrita\")\n",
    "except:\n",
    "    print(\"Erro ao tratar o arquivo\")\n",
    "finally:\n",
    "    print(\"Funcionou\")"
   ]
  },
  {
   "cell_type": "markdown",
   "metadata": {},
   "source": [
    "# trabalho"
   ]
  },
  {
   "cell_type": "markdown",
   "metadata": {},
   "source": [
    "trabalho 1 - multiplicar por uma string"
   ]
  },
  {
   "cell_type": "code",
   "execution_count": 10,
   "metadata": {},
   "outputs": [
    {
     "name": "stdout",
     "output_type": "stream",
     "text": [
      "Não é possivel multiplicar por uma string\n"
     ]
    }
   ],
   "source": [
    "try:\n",
    "    for i in ['a','b','c']:\n",
    "        print(i**2)\n",
    "except:\n",
    "    print(\"Não é possivel multiplicar por uma string\")\n",
    "else:\n",
    "    print(\"Feito\")\n",
    "        "
   ]
  },
  {
   "cell_type": "markdown",
   "metadata": {},
   "source": [
    "trabalho 2  - division by zero"
   ]
  },
  {
   "cell_type": "code",
   "execution_count": 11,
   "metadata": {},
   "outputs": [
    {
     "name": "stdout",
     "output_type": "stream",
     "text": [
      "It's not possible to divide by zero\n",
      "All done\n"
     ]
    }
   ],
   "source": [
    "try:\n",
    "    x = 5\n",
    "    y = 0\n",
    "    z = x/y\n",
    "except ZeroDivisionError:\n",
    "    print (\"It's not possible to divide by zero\")\n",
    "finally:\n",
    "    print(\"All done\")"
   ]
  },
  {
   "cell_type": "markdown",
   "metadata": {},
   "source": [
    "trabalho 3 - Getting a number and printing its square "
   ]
  },
  {
   "cell_type": "code",
   "execution_count": null,
   "metadata": {},
   "outputs": [
    {
     "name": "stdout",
     "output_type": "stream",
     "text": [
      "enter a value2\n",
      "The square of number typed is  4\n",
      "enter a value5\n",
      "The square of number typed is  25\n",
      "enter a value4\n",
      "The square of number typed is  16\n"
     ]
    }
   ],
   "source": [
    "while True:\n",
    "    try:\n",
    "        num = int(input(\"enter a value\"))\n",
    "    except:\n",
    "        print (\"Value typed is not a integer number, please enter a integer number\")\n",
    "    else:\n",
    "        print (\"The square of number typed is \", num**2)\n",
    "        "
   ]
  },
  {
   "cell_type": "code",
   "execution_count": null,
   "metadata": {},
   "outputs": [],
   "source": []
  }
 ],
 "metadata": {
  "kernelspec": {
   "display_name": "Python 3",
   "language": "python",
   "name": "python3"
  },
  "language_info": {
   "codemirror_mode": {
    "name": "ipython",
    "version": 3
   },
   "file_extension": ".py",
   "mimetype": "text/x-python",
   "name": "python",
   "nbconvert_exporter": "python",
   "pygments_lexer": "ipython3",
   "version": "3.7.3"
  }
 },
 "nbformat": 4,
 "nbformat_minor": 2
}
